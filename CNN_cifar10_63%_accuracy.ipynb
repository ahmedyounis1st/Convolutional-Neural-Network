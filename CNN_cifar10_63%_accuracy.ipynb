{
  "nbformat": 4,
  "nbformat_minor": 0,
  "metadata": {
    "colab": {
      "name": "CNN_cifar10_63%_accuracy.ipynb",
      "provenance": [],
      "collapsed_sections": []
    },
    "kernelspec": {
      "name": "python3",
      "display_name": "Python 3"
    },
    "language_info": {
      "name": "python"
    },
    "accelerator": "GPU"
  },
  "cells": [
    {
      "cell_type": "code",
      "metadata": {
        "id": "HD2Rk-ZDSMVx"
      },
      "source": [
        "from tensorflow import keras\n",
        "from keras.layers import Input, Dense, Dropout,Conv2D, MaxPool2D, Flatten\n",
        "from tensorflow.keras import  datasets\n",
        "from matplotlib import pyplot as plt"
      ],
      "execution_count": 1,
      "outputs": []
    },
    {
      "cell_type": "code",
      "source": [
        "(x_train, y_train), (x_test, y_test) = datasets.cifar10.load_data()"
      ],
      "metadata": {
        "id": "6V3cDL4G4WMF"
      },
      "execution_count": 2,
      "outputs": []
    },
    {
      "cell_type": "code",
      "source": [
        "x_train.shape"
      ],
      "metadata": {
        "colab": {
          "base_uri": "https://localhost:8080/"
        },
        "id": "55_pRpY4yeVd",
        "outputId": "94e82820-078f-4af1-85fb-e83801bea37a"
      },
      "execution_count": 3,
      "outputs": [
        {
          "output_type": "execute_result",
          "data": {
            "text/plain": [
              "(50000, 32, 32, 3)"
            ]
          },
          "metadata": {},
          "execution_count": 3
        }
      ]
    },
    {
      "cell_type": "code",
      "source": [
        "x_test.shape"
      ],
      "metadata": {
        "colab": {
          "base_uri": "https://localhost:8080/"
        },
        "id": "lcHxNPByyt2B",
        "outputId": "eabab432-8935-41b2-97a4-9a0ba99d35d9"
      },
      "execution_count": 4,
      "outputs": [
        {
          "output_type": "execute_result",
          "data": {
            "text/plain": [
              "(10000, 32, 32, 3)"
            ]
          },
          "metadata": {},
          "execution_count": 4
        }
      ]
    },
    {
      "cell_type": "markdown",
      "source": [
        "0   airplane\n",
        "1   automobile\n",
        "2   bird\n",
        "3   cat\n",
        "4   deer\n",
        "5   dog\n",
        "6   frog\n",
        "7   horse\n",
        "8   ship\n",
        "9   truck"
      ],
      "metadata": {
        "id": "Xqt1zsp16ldQ"
      }
    },
    {
      "cell_type": "code",
      "source": [
        "plt.imshow(x_train[5],cmap=\"gray\")\n",
        "print(y_train[5])"
      ],
      "metadata": {
        "id": "Vq0Ewpop3T6t",
        "colab": {
          "base_uri": "https://localhost:8080/",
          "height": 283
        },
        "outputId": "23d067f8-cf42-43bd-ad25-0a134165fff0"
      },
      "execution_count": 5,
      "outputs": [
        {
          "output_type": "stream",
          "name": "stdout",
          "text": [
            "[1]\n"
          ]
        },
        {
          "output_type": "display_data",
          "data": {
            "text/plain": [
              "<Figure size 432x288 with 1 Axes>"
            ],
            "image/png": "[encoded data removed]"
          },
          "metadata": {
            "needs_background": "light"
          }
        }
      ]
    },
    {
      "cell_type": "code",
      "source": [
        "#Convert the labels into one-hot codes.\n",
        "num_classes = 10\n",
        "y_train = keras.utils.to_categorical(y_train, num_classes)\n",
        "y_test = keras.utils.to_categorical(y_test, num_classes)\n",
        "print(y_train[0])"
      ],
      "metadata": {
        "colab": {
          "base_uri": "https://localhost:8080/"
        },
        "id": "SYay648d3REP",
        "outputId": "114eaa88-b764-4d80-cba7-5794c87ee12c"
      },
      "execution_count": 6,
      "outputs": [
        {
          "output_type": "stream",
          "name": "stdout",
          "text": [
            "[0. 0. 0. 0. 0. 0. 1. 0. 0. 0.]\n"
          ]
        }
      ]
    },
    {
      "cell_type": "code",
      "metadata": {
        "id": "vt9t37WrhWy8"
      },
      "source": [
        "#Normalize image pixel values.\n",
        "x_train = x_train/255\n",
        "x_test = x_test/255"
      ],
      "execution_count": 7,
      "outputs": []
    },
    {
      "cell_type": "code",
      "metadata": {
        "colab": {
          "base_uri": "https://localhost:8080/"
        },
        "id": "ORom-RTJZ-kp",
        "outputId": "e2eaae0f-03f0-43c6-9f83-b2bf5a79ad03"
      },
      "source": [
        "model=keras.Sequential() #Create a network sequence.\n",
        "\n",
        "model.add(Input(shape=(32,32,3)))\n",
        "model.add(Conv2D(filters=6,kernel_size = 5,strides = (1,1), padding = 'valid',activation = 'relu'))\n",
        "#model.add(Conv2D(filters=6,kernel_size = 5,strides = (1,1), padding = 'valid',activation = 'relu',input_shape = (32,32,3)))\n",
        "model.add(MaxPool2D(pool_size=(2,2), strides = (2,2), padding = 'valid'))\n",
        "\n",
        "model.add(Conv2D(filters=16,kernel_size = 5,strides = (1,1), padding = 'valid',activation = 'relu'))\n",
        "model.add(MaxPool2D(pool_size=(2,2), strides = (2,2), padding = 'valid'))\n",
        "\n",
        "model.add(Flatten())\n",
        "model.add(Dense(120,activation = 'relu'))\n",
        "model.add(Dense(84,activation = 'relu'))\n",
        "model.add(Dense(10,activation = 'softmax'))\n",
        "\n",
        "model.summary()"
      ],
      "execution_count": 8,
      "outputs": [
        {
          "output_type": "stream",
          "name": "stdout",
          "text": [
            "Model: \"sequential\"\n",
            "_________________________________________________________________\n",
            " Layer (type)                Output Shape              Param #   \n",
            "=================================================================\n",
            " conv2d (Conv2D)             (None, 28, 28, 6)         456       \n",
            "                                                                 \n",
            " max_pooling2d (MaxPooling2D  (None, 14, 14, 6)        0         \n",
            " )                                                               \n",
            "                                                                 \n",
            " conv2d_1 (Conv2D)           (None, 10, 10, 16)        2416      \n",
            "                                                                 \n",
            " max_pooling2d_1 (MaxPooling  (None, 5, 5, 16)         0         \n",
            " 2D)                                                             \n",
            "                                                                 \n",
            " flatten (Flatten)           (None, 400)               0         \n",
            "                                                                 \n",
            " dense (Dense)               (None, 120)               48120     \n",
            "                                                                 \n",
            " dense_1 (Dense)             (None, 84)                10164     \n",
            "                                                                 \n",
            " dense_2 (Dense)             (None, 10)                850       \n",
            "                                                                 \n",
            "=================================================================\n",
            "Total params: 62,006\n",
            "Trainable params: 62,006\n",
            "Non-trainable params: 0\n",
            "_________________________________________________________________\n"
          ]
        }
      ]
    },
    {
      "cell_type": "code",
      "metadata": {
        "id": "skMSXinVhSPV",
        "colab": {
          "base_uri": "https://localhost:8080/"
        },
        "outputId": "12d81e87-c706-4c6f-b4af-7a1ca29e3047"
      },
      "source": [
        "model.compile(optimizer='Adam',loss=\"categorical_crossentropy\",metrics=['accuracy']) \n",
        "#model.compile(optimizer=keras.optimizers.Adam(),loss=\"categorical_crossentropy\",metrics=['accuracy']) \n",
        "results= model.fit(x_train,y_train,epochs=20,batch_size=128,validation_data=(x_test, y_test))\n",
        "\n"
      ],
      "execution_count": 9,
      "outputs": [
        {
          "output_type": "stream",
          "name": "stdout",
          "text": [
            "Epoch 1/20\n",
            "391/391 [==============================] - 9s 15ms/step - loss: 1.7726 - accuracy: 0.3572 - val_loss: 1.5237 - val_accuracy: 0.4454\n",
            "Epoch 2/20\n",
            "391/391 [==============================] - 3s 9ms/step - loss: 1.4552 - accuracy: 0.4744 - val_loss: 1.3640 - val_accuracy: 0.5128\n",
            "Epoch 3/20\n",
            "391/391 [==============================] - 3s 9ms/step - loss: 1.3224 - accuracy: 0.5260 - val_loss: 1.2871 - val_accuracy: 0.5394\n",
            "Epoch 4/20\n",
            "391/391 [==============================] - 4s 9ms/step - loss: 1.2407 - accuracy: 0.5583 - val_loss: 1.2237 - val_accuracy: 0.5684\n",
            "Epoch 5/20\n",
            "391/391 [==============================] - 3s 9ms/step - loss: 1.1688 - accuracy: 0.5869 - val_loss: 1.1952 - val_accuracy: 0.5820\n",
            "Epoch 6/20\n",
            "391/391 [==============================] - 4s 10ms/step - loss: 1.1252 - accuracy: 0.6013 - val_loss: 1.1630 - val_accuracy: 0.5899\n",
            "Epoch 7/20\n",
            "391/391 [==============================] - 4s 10ms/step - loss: 1.0793 - accuracy: 0.6196 - val_loss: 1.1304 - val_accuracy: 0.6047\n",
            "Epoch 8/20\n",
            "391/391 [==============================] - 3s 9ms/step - loss: 1.0397 - accuracy: 0.6318 - val_loss: 1.1243 - val_accuracy: 0.6061\n",
            "Epoch 9/20\n",
            "391/391 [==============================] - 3s 9ms/step - loss: 1.0099 - accuracy: 0.6449 - val_loss: 1.1029 - val_accuracy: 0.6135\n",
            "Epoch 10/20\n",
            "391/391 [==============================] - 4s 10ms/step - loss: 0.9786 - accuracy: 0.6546 - val_loss: 1.1630 - val_accuracy: 0.5944\n",
            "Epoch 11/20\n",
            "391/391 [==============================] - 4s 10ms/step - loss: 0.9531 - accuracy: 0.6636 - val_loss: 1.1050 - val_accuracy: 0.6177\n",
            "Epoch 12/20\n",
            "391/391 [==============================] - 4s 9ms/step - loss: 0.9320 - accuracy: 0.6708 - val_loss: 1.0883 - val_accuracy: 0.6217\n",
            "Epoch 13/20\n",
            "391/391 [==============================] - 3s 9ms/step - loss: 0.8989 - accuracy: 0.6826 - val_loss: 1.0526 - val_accuracy: 0.6339\n",
            "Epoch 14/20\n",
            "391/391 [==============================] - 4s 9ms/step - loss: 0.8756 - accuracy: 0.6922 - val_loss: 1.0747 - val_accuracy: 0.6238\n",
            "Epoch 15/20\n",
            "391/391 [==============================] - 3s 9ms/step - loss: 0.8544 - accuracy: 0.6987 - val_loss: 1.0996 - val_accuracy: 0.6273\n",
            "Epoch 16/20\n",
            "391/391 [==============================] - 3s 9ms/step - loss: 0.8396 - accuracy: 0.7051 - val_loss: 1.0900 - val_accuracy: 0.6254\n",
            "Epoch 17/20\n",
            "391/391 [==============================] - 4s 10ms/step - loss: 0.8158 - accuracy: 0.7126 - val_loss: 1.0847 - val_accuracy: 0.6314\n",
            "Epoch 18/20\n",
            "391/391 [==============================] - 3s 9ms/step - loss: 0.7915 - accuracy: 0.7202 - val_loss: 1.1010 - val_accuracy: 0.6311\n",
            "Epoch 19/20\n",
            "391/391 [==============================] - 4s 10ms/step - loss: 0.7831 - accuracy: 0.7236 - val_loss: 1.0756 - val_accuracy: 0.6360\n",
            "Epoch 20/20\n",
            "391/391 [==============================] - 4s 10ms/step - loss: 0.7602 - accuracy: 0.7311 - val_loss: 1.0912 - val_accuracy: 0.6373\n"
          ]
        }
      ]
    },
    {
      "cell_type": "code",
      "metadata": {
        "id": "eQsuIhTzk3fE",
        "colab": {
          "base_uri": "https://localhost:8080/"
        },
        "outputId": "b143cd3e-55e6-47b6-f77d-466b6f07bc24"
      },
      "source": [
        "score = model.evaluate(x_test, y_test)\n"
      ],
      "execution_count": 10,
      "outputs": [
        {
          "output_type": "stream",
          "name": "stdout",
          "text": [
            "313/313 [==============================] - 1s 4ms/step - loss: 1.0912 - accuracy: 0.6373\n"
          ]
        }
      ]
    },
    {
      "cell_type": "code",
      "source": [
        "plt.plot(results.history['accuracy'], label='accuracy')\n",
        "plt.plot(results.history['val_accuracy'], label = 'val_accuracy')\n",
        "plt.xlabel('Epoch')\n",
        "plt.ylabel('Accuracy')\n",
        "#plt.ylim([0.5, 1])\n",
        "plt.legend(loc='lower right')\n",
        "\n",
        "test_loss, test_acc = model.evaluate(x_test,  y_test)"
      ],
      "metadata": {
        "colab": {
          "base_uri": "https://localhost:8080/",
          "height": 296
        },
        "id": "lrxn2f3Nr06H",
        "outputId": "3d0abe6d-12cd-40b4-f068-6723785077ac"
      },
      "execution_count": 11,
      "outputs": [
        {
          "output_type": "stream",
          "name": "stdout",
          "text": [
            "313/313 [==============================] - 1s 4ms/step - loss: 1.0912 - accuracy: 0.6373\n"
          ]
        },
        {
          "output_type": "display_data",
          "data": {
            "text/plain": [
              "<Figure size 432x288 with 1 Axes>"
            ],
            "image/png": "[encoded data removed]"
          },
          "metadata": {
            "needs_background": "light"
          }
        }
      ]
    },
    {
      "cell_type": "code",
      "metadata": {
        "id": "tK3DWgfVS_Un",
        "colab": {
          "base_uri": "https://localhost:8080/",
          "height": 312
        },
        "outputId": "774d7513-401f-47a4-e715-aa30c787f003"
      },
      "source": [
        "plt.plot(results.history['loss'])\n",
        "plt.title('Training losses')\n",
        "plt.xlabel('epoch')\n",
        "plt.ylabel('Training losses')"
      ],
      "execution_count": 12,
      "outputs": [
        {
          "output_type": "execute_result",
          "data": {
            "text/plain": [
              "Text(0, 0.5, 'Training losses')"
            ]
          },
          "metadata": {},
          "execution_count": 12
        },
        {
          "output_type": "display_data",
          "data": {
            "text/plain": [
              "<Figure size 432x288 with 1 Axes>"
            ],
            "image/png": "[encoded data removed]"
          },
          "metadata": {
            "needs_background": "light"
          }
        }
      ]
    },
    {
      "cell_type": "code",
      "source": [
        "import matplotlib.pyplot as plt\n",
        "plt.plot(results.history['accuracy'])\n",
        "plt.ylabel('Training  accuracy')\n",
        "plt.xlabel('epoch')"
      ],
      "metadata": {
        "id": "SSq-scHBiSGj",
        "outputId": "0cb03c8a-96e7-4346-d266-f5ce066e89bf",
        "colab": {
          "base_uri": "https://localhost:8080/",
          "height": 296
        }
      },
      "execution_count": 13,
      "outputs": [
        {
          "output_type": "execute_result",
          "data": {
            "text/plain": [
              "Text(0.5, 0, 'epoch')"
            ]
          },
          "metadata": {},
          "execution_count": 13
        },
        {
          "output_type": "display_data",
          "data": {
            "text/plain": [
              "<Figure size 432x288 with 1 Axes>"
            ],
            "image/png": "[encoded data removed]"
          },
          "metadata": {
            "needs_background": "light"
          }
        }
      ]
    },
    {
      "cell_type": "code",
      "source": [
        "import matplotlib.pyplot as plt\n",
        "plt.plot(results.history['val_accuracy'])\n",
        "plt.ylabel(' Validation accuracy')\n",
        "plt.xlabel('epoch')"
      ],
      "metadata": {
        "colab": {
          "base_uri": "https://localhost:8080/",
          "height": 296
        },
        "id": "1tbGUfyJ-Mhz",
        "outputId": "b13f4d72-0ac2-42c2-f3e3-e3ed6040168b"
      },
      "execution_count": 14,
      "outputs": [
        {
          "output_type": "execute_result",
          "data": {
            "text/plain": [
              "Text(0.5, 0, 'epoch')"
            ]
          },
          "metadata": {},
          "execution_count": 14
        },
        {
          "output_type": "display_data",
          "data": {
            "text/plain": [
              "<Figure size 432x288 with 1 Axes>"
            ],
            "image/png": "[encoded data removed]"
          },
          "metadata": {
            "needs_background": "light"
          }
        }
      ]
    }
  ]
}