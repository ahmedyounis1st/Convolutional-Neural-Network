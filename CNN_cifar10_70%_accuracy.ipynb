{
  "nbformat": 4,
  "nbformat_minor": 0,
  "metadata": {
    "colab": {
      "name": "CNN_cifar10_70%_accuracy.ipynb",
      "provenance": [],
      "collapsed_sections": []
    },
    "kernelspec": {
      "name": "python3",
      "display_name": "Python 3"
    },
    "language_info": {
      "name": "python"
    },
    "accelerator": "GPU"
  },
  "cells": [
    {
      "cell_type": "code",
      "metadata": {
        "id": "HD2Rk-ZDSMVx"
      },
      "source": [
        "from tensorflow import keras\n",
        "from keras.layers import Input, Dense, Dropout,Conv2D, MaxPooling2D, Flatten\n",
        "from tensorflow.keras import  datasets\n",
        "from matplotlib import pyplot as plt"
      ],
      "execution_count": 1,
      "outputs": []
    },
    {
      "cell_type": "code",
      "source": [
        "(x_train, y_train), (x_test, y_test) = datasets.cifar10.load_data()"
      ],
      "metadata": {
        "id": "6V3cDL4G4WMF",
        "colab": {
          "base_uri": "https://localhost:8080/"
        },
        "outputId": "c311b488-b8cc-4c4d-993c-ddc29f5349ad"
      },
      "execution_count": 2,
      "outputs": [
        {
          "output_type": "stream",
          "name": "stdout",
          "text": [
            "Downloading data from https://www.cs.toronto.edu/~kriz/cifar-10-python.tar.gz\n",
            "170500096/170498071 [==============================] - 6s 0us/step\n",
            "170508288/170498071 [==============================] - 6s 0us/step\n"
          ]
        }
      ]
    },
    {
      "cell_type": "code",
      "source": [
        "x_train.shape"
      ],
      "metadata": {
        "colab": {
          "base_uri": "https://localhost:8080/"
        },
        "id": "55_pRpY4yeVd",
        "outputId": "9dd86feb-1b7e-4710-dcd9-5e2fb05d6c0b"
      },
      "execution_count": 3,
      "outputs": [
        {
          "output_type": "execute_result",
          "data": {
            "text/plain": [
              "(50000, 32, 32, 3)"
            ]
          },
          "metadata": {},
          "execution_count": 3
        }
      ]
    },
    {
      "cell_type": "code",
      "source": [
        "x_test.shape"
      ],
      "metadata": {
        "colab": {
          "base_uri": "https://localhost:8080/"
        },
        "id": "lcHxNPByyt2B",
        "outputId": "a912206c-673a-4abd-c416-6acac43fff08"
      },
      "execution_count": 4,
      "outputs": [
        {
          "output_type": "execute_result",
          "data": {
            "text/plain": [
              "(10000, 32, 32, 3)"
            ]
          },
          "metadata": {},
          "execution_count": 4
        }
      ]
    },
    {
      "cell_type": "code",
      "source": [
        "#Convert the labels into one-hot codes.\n",
        "num_classes = 10\n",
        "y_train = keras.utils.to_categorical(y_train, num_classes)\n",
        "y_test = keras.utils.to_categorical(y_test, num_classes)\n",
        "print(y_train[0])"
      ],
      "metadata": {
        "colab": {
          "base_uri": "https://localhost:8080/"
        },
        "id": "SYay648d3REP",
        "outputId": "d90e9238-1d26-40fd-b585-54713a560ef5"
      },
      "execution_count": 5,
      "outputs": [
        {
          "output_type": "stream",
          "name": "stdout",
          "text": [
            "[0. 0. 0. 0. 0. 0. 1. 0. 0. 0.]\n"
          ]
        }
      ]
    },
    {
      "cell_type": "code",
      "metadata": {
        "id": "vt9t37WrhWy8"
      },
      "source": [
        "#Normalize image pixel values.\n",
        "x_train = x_train/255\n",
        "x_test = x_test/255"
      ],
      "execution_count": 6,
      "outputs": []
    },
    {
      "cell_type": "code",
      "metadata": {
        "colab": {
          "base_uri": "https://localhost:8080/"
        },
        "id": "ORom-RTJZ-kp",
        "outputId": "f9d81975-8f69-4ebe-88aa-1b08b130824d"
      },
      "source": [
        "model=keras.Sequential() #Create a network sequence.\n",
        "model.add(Input(shape=(32,32,3)))\n",
        "model.add(Conv2D(32, (3, 3), activation='relu', input_shape=(32, 32, 3)))\n",
        "model.add(MaxPooling2D((2, 2)))\n",
        "model.add(Conv2D(64, (3, 3), activation='relu'))\n",
        "model.add(MaxPooling2D((2, 2)))\n",
        "model.add(Conv2D(64, (3, 3), activation='relu'))\n",
        "model.add(MaxPooling2D((2, 2)))\n",
        "\n",
        "model.add(Flatten())\n",
        "model.add(Dense(64,activation = 'relu'))\n",
        "model.add(Dense(10,activation = 'softmax'))\n",
        "\n",
        "model.summary()"
      ],
      "execution_count": 7,
      "outputs": [
        {
          "output_type": "stream",
          "name": "stdout",
          "text": [
            "Model: \"sequential\"\n",
            "_________________________________________________________________\n",
            " Layer (type)                Output Shape              Param #   \n",
            "=================================================================\n",
            " conv2d (Conv2D)             (None, 30, 30, 32)        896       \n",
            "                                                                 \n",
            " max_pooling2d (MaxPooling2D  (None, 15, 15, 32)       0         \n",
            " )                                                               \n",
            "                                                                 \n",
            " conv2d_1 (Conv2D)           (None, 13, 13, 64)        18496     \n",
            "                                                                 \n",
            " max_pooling2d_1 (MaxPooling  (None, 6, 6, 64)         0         \n",
            " 2D)                                                             \n",
            "                                                                 \n",
            " conv2d_2 (Conv2D)           (None, 4, 4, 64)          36928     \n",
            "                                                                 \n",
            " max_pooling2d_2 (MaxPooling  (None, 2, 2, 64)         0         \n",
            " 2D)                                                             \n",
            "                                                                 \n",
            " flatten (Flatten)           (None, 256)               0         \n",
            "                                                                 \n",
            " dense (Dense)               (None, 64)                16448     \n",
            "                                                                 \n",
            " dense_1 (Dense)             (None, 10)                650       \n",
            "                                                                 \n",
            "=================================================================\n",
            "Total params: 73,418\n",
            "Trainable params: 73,418\n",
            "Non-trainable params: 0\n",
            "_________________________________________________________________\n"
          ]
        }
      ]
    },
    {
      "cell_type": "code",
      "metadata": {
        "id": "skMSXinVhSPV",
        "colab": {
          "base_uri": "https://localhost:8080/"
        },
        "outputId": "07b744df-171a-4cd3-daed-373b19055edb"
      },
      "source": [
        "model.compile(optimizer='Adam',loss=\"categorical_crossentropy\",metrics=['accuracy']) \n",
        "#model.compile(optimizer=keras.optimizers.Adam(),loss=\"categorical_crossentropy\",metrics=['accuracy']) \n",
        "results= model.fit(x_train,y_train,epochs=20,batch_size=128,shuffle='true',validation_data=(x_test, y_test))\n",
        "\n"
      ],
      "execution_count": 8,
      "outputs": [
        {
          "output_type": "stream",
          "name": "stdout",
          "text": [
            "Epoch 1/20\n",
            "391/391 [==============================] - 15s 14ms/step - loss: 1.7079 - accuracy: 0.3723 - val_loss: 1.4444 - val_accuracy: 0.4790\n",
            "Epoch 2/20\n",
            "391/391 [==============================] - 5s 12ms/step - loss: 1.3583 - accuracy: 0.5149 - val_loss: 1.2901 - val_accuracy: 0.5397\n",
            "Epoch 3/20\n",
            "391/391 [==============================] - 5s 12ms/step - loss: 1.2110 - accuracy: 0.5702 - val_loss: 1.1593 - val_accuracy: 0.5935\n",
            "Epoch 4/20\n",
            "391/391 [==============================] - 5s 12ms/step - loss: 1.1157 - accuracy: 0.6111 - val_loss: 1.1015 - val_accuracy: 0.6145\n",
            "Epoch 5/20\n",
            "391/391 [==============================] - 5s 12ms/step - loss: 1.0469 - accuracy: 0.6349 - val_loss: 1.0414 - val_accuracy: 0.6329\n",
            "Epoch 6/20\n",
            "391/391 [==============================] - 5s 12ms/step - loss: 0.9951 - accuracy: 0.6501 - val_loss: 1.0165 - val_accuracy: 0.6424\n",
            "Epoch 7/20\n",
            "391/391 [==============================] - 5s 12ms/step - loss: 0.9473 - accuracy: 0.6690 - val_loss: 0.9967 - val_accuracy: 0.6521\n",
            "Epoch 8/20\n",
            "391/391 [==============================] - 5s 12ms/step - loss: 0.9023 - accuracy: 0.6861 - val_loss: 0.9777 - val_accuracy: 0.6597\n",
            "Epoch 9/20\n",
            "391/391 [==============================] - 5s 12ms/step - loss: 0.8676 - accuracy: 0.6976 - val_loss: 0.9704 - val_accuracy: 0.6652\n",
            "Epoch 10/20\n",
            "391/391 [==============================] - 5s 12ms/step - loss: 0.8373 - accuracy: 0.7088 - val_loss: 0.9569 - val_accuracy: 0.6731\n",
            "Epoch 11/20\n",
            "391/391 [==============================] - 5s 12ms/step - loss: 0.8099 - accuracy: 0.7166 - val_loss: 0.9672 - val_accuracy: 0.6653\n",
            "Epoch 12/20\n",
            "391/391 [==============================] - 5s 13ms/step - loss: 0.7717 - accuracy: 0.7317 - val_loss: 0.9283 - val_accuracy: 0.6845\n",
            "Epoch 13/20\n",
            "391/391 [==============================] - 5s 13ms/step - loss: 0.7505 - accuracy: 0.7389 - val_loss: 0.9211 - val_accuracy: 0.6898\n",
            "Epoch 14/20\n",
            "391/391 [==============================] - 5s 12ms/step - loss: 0.7223 - accuracy: 0.7489 - val_loss: 0.8798 - val_accuracy: 0.7028\n",
            "Epoch 15/20\n",
            "391/391 [==============================] - 5s 12ms/step - loss: 0.7039 - accuracy: 0.7553 - val_loss: 0.8954 - val_accuracy: 0.6952\n",
            "Epoch 16/20\n",
            "391/391 [==============================] - 5s 12ms/step - loss: 0.6809 - accuracy: 0.7620 - val_loss: 0.9009 - val_accuracy: 0.6994\n",
            "Epoch 17/20\n",
            "391/391 [==============================] - 5s 12ms/step - loss: 0.6603 - accuracy: 0.7694 - val_loss: 0.8727 - val_accuracy: 0.7111\n",
            "Epoch 18/20\n",
            "391/391 [==============================] - 5s 12ms/step - loss: 0.6378 - accuracy: 0.7779 - val_loss: 0.8964 - val_accuracy: 0.6992\n",
            "Epoch 19/20\n",
            "391/391 [==============================] - 5s 12ms/step - loss: 0.6188 - accuracy: 0.7838 - val_loss: 0.9097 - val_accuracy: 0.7025\n",
            "Epoch 20/20\n",
            "391/391 [==============================] - 5s 12ms/step - loss: 0.6025 - accuracy: 0.7887 - val_loss: 0.8875 - val_accuracy: 0.7080\n"
          ]
        }
      ]
    },
    {
      "cell_type": "code",
      "metadata": {
        "id": "eQsuIhTzk3fE",
        "colab": {
          "base_uri": "https://localhost:8080/"
        },
        "outputId": "48cddb1c-cfc3-42e2-8c6c-c4c5e73e280c"
      },
      "source": [
        "score = model.evaluate(x_test, y_test)\n"
      ],
      "execution_count": 9,
      "outputs": [
        {
          "output_type": "stream",
          "name": "stdout",
          "text": [
            "313/313 [==============================] - 1s 4ms/step - loss: 0.8875 - accuracy: 0.7080\n"
          ]
        }
      ]
    },
    {
      "cell_type": "code",
      "source": [
        "plt.plot(results.history['accuracy'], label='accuracy')\n",
        "plt.plot(results.history['val_accuracy'], label = 'val_accuracy')\n",
        "plt.xlabel('Epoch')\n",
        "plt.ylabel('Accuracy')\n",
        "#plt.ylim([0.5, 1])\n",
        "plt.legend(loc='lower right')\n",
        "\n",
        "test_loss, test_acc = model.evaluate(x_test,  y_test)"
      ],
      "metadata": {
        "colab": {
          "base_uri": "https://localhost:8080/",
          "height": 296
        },
        "id": "lrxn2f3Nr06H",
        "outputId": "c098affb-ecd6-4546-d65b-d2b9d9ba16de"
      },
      "execution_count": 10,
      "outputs": [
        {
          "output_type": "stream",
          "name": "stdout",
          "text": [
            "313/313 [==============================] - 1s 4ms/step - loss: 0.8875 - accuracy: 0.7080\n"
          ]
        },
        {
          "output_type": "display_data",
          "data": {
            "text/plain": [
              "<Figure size 432x288 with 1 Axes>"
            ],
            "image/png": "[encoded data removed]"
          },
          "metadata": {
            "needs_background": "light"
          }
        }
      ]
    },
    {
      "cell_type": "code",
      "metadata": {
        "id": "tK3DWgfVS_Un",
        "colab": {
          "base_uri": "https://localhost:8080/",
          "height": 312
        },
        "outputId": "04ca77f4-beb8-4ccb-93f3-0ef6209e688a"
      },
      "source": [
        "plt.plot(results.history['loss'])\n",
        "plt.title('Training losses')\n",
        "plt.xlabel('epoch')\n",
        "plt.ylabel('Training losses')"
      ],
      "execution_count": 12,
      "outputs": [
        {
          "output_type": "execute_result",
          "data": {
            "text/plain": [
              "Text(0, 0.5, 'Training losses')"
            ]
          },
          "metadata": {},
          "execution_count": 12
        },
        {
          "output_type": "display_data",
          "data": {
            "text/plain": [
              "<Figure size 432x288 with 1 Axes>"
            ],
            "image/png": "[encoded data removed]"
          },
          "metadata": {
            "needs_background": "light"
          }
        }
      ]
    }
  ]
}