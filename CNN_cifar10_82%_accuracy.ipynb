{
  "nbformat": 4,
  "nbformat_minor": 0,
  "metadata": {
    "colab": {
      "name": "CNN_cifar10_82%_accuracy.ipynb",
      "provenance": [],
      "collapsed_sections": []
    },
    "kernelspec": {
      "name": "python3",
      "display_name": "Python 3"
    },
    "language_info": {
      "name": "python"
    },
    "accelerator": "GPU"
  },
  "cells": [
    {
      "cell_type": "code",
      "metadata": {
        "id": "HD2Rk-ZDSMVx"
      },
      "source": [
        "from tensorflow import keras\n",
        "from keras.layers import Input, Dense, Dropout,Conv2D, MaxPooling2D, Flatten\n",
        "from tensorflow.keras import  datasets\n",
        "from matplotlib import pyplot as plt"
      ],
      "execution_count": 1,
      "outputs": []
    },
    {
      "cell_type": "code",
      "source": [
        "(x_train, y_train), (x_test, y_test) = datasets.cifar10.load_data()"
      ],
      "metadata": {
        "id": "6V3cDL4G4WMF",
        "colab": {
          "base_uri": "https://localhost:8080/"
        },
        "outputId": "f213f279-281a-4774-a99e-c74e86fbba57"
      },
      "execution_count": 2,
      "outputs": [
        {
          "output_type": "stream",
          "name": "stdout",
          "text": [
            "Downloading data from https://www.cs.toronto.edu/~kriz/cifar-10-python.tar.gz\n",
            "170500096/170498071 [==============================] - 2s 0us/step\n",
            "170508288/170498071 [==============================] - 2s 0us/step\n"
          ]
        }
      ]
    },
    {
      "cell_type": "code",
      "source": [
        "x_train.shape"
      ],
      "metadata": {
        "colab": {
          "base_uri": "https://localhost:8080/"
        },
        "id": "55_pRpY4yeVd",
        "outputId": "5c9ecb25-2ccc-40f0-9f3d-3a27590262ee"
      },
      "execution_count": 3,
      "outputs": [
        {
          "output_type": "execute_result",
          "data": {
            "text/plain": [
              "(50000, 32, 32, 3)"
            ]
          },
          "metadata": {},
          "execution_count": 3
        }
      ]
    },
    {
      "cell_type": "code",
      "source": [
        "x_test.shape"
      ],
      "metadata": {
        "colab": {
          "base_uri": "https://localhost:8080/"
        },
        "id": "lcHxNPByyt2B",
        "outputId": "ecff81f8-fb71-4ef1-b3de-4e0867c96093"
      },
      "execution_count": 4,
      "outputs": [
        {
          "output_type": "execute_result",
          "data": {
            "text/plain": [
              "(10000, 32, 32, 3)"
            ]
          },
          "metadata": {},
          "execution_count": 4
        }
      ]
    },
    {
      "cell_type": "code",
      "source": [
        "#Convert the labels into one-hot codes.\n",
        "num_classes = 10\n",
        "y_test1=y_test\n",
        "y_train = keras.utils.to_categorical(y_train, num_classes)\n",
        "y_test = keras.utils.to_categorical(y_test, num_classes)\n",
        "print(y_train[0])"
      ],
      "metadata": {
        "colab": {
          "base_uri": "https://localhost:8080/"
        },
        "id": "SYay648d3REP",
        "outputId": "5fea701b-4eab-4913-cc51-ec73c307a4f4"
      },
      "execution_count": 5,
      "outputs": [
        {
          "output_type": "stream",
          "name": "stdout",
          "text": [
            "[0. 0. 0. 0. 0. 0. 1. 0. 0. 0.]\n"
          ]
        }
      ]
    },
    {
      "cell_type": "code",
      "metadata": {
        "id": "vt9t37WrhWy8"
      },
      "source": [
        "#Normalize image pixel values.\n",
        "x_train = x_train/255\n",
        "x_test = x_test/255"
      ],
      "execution_count": 6,
      "outputs": []
    },
    {
      "cell_type": "code",
      "metadata": {
        "colab": {
          "base_uri": "https://localhost:8080/"
        },
        "id": "ORom-RTJZ-kp",
        "outputId": "ef8e7f83-5dda-4f98-e149-66807912fc63"
      },
      "source": [
        "model = keras.Sequential()\n",
        "    # The first two layers with 32 filters of window size 3x3\n",
        "model.add(Conv2D(32, (3, 3), padding='same', activation='relu', input_shape=(32,32,3)))\n",
        "model.add(Conv2D(32, (3, 3), activation='relu'))\n",
        "model.add(MaxPooling2D(pool_size=(2, 2)))\n",
        "model.add(Dropout(0.25))\n",
        "model.add(Conv2D(64, (3, 3), padding='same', activation='relu'))\n",
        "model.add(Conv2D(64, (3, 3), activation='relu'))\n",
        "model.add(MaxPooling2D(pool_size=(2, 2)))\n",
        "model.add(Dropout(0.25))\n",
        "model.add(Conv2D(64, (3, 3), padding='same', activation='relu'))\n",
        "model.add(Conv2D(64, (3, 3), activation='relu'))\n",
        "model.add(MaxPooling2D(pool_size=(2, 2)))\n",
        "model.add(Dropout(0.25))\n",
        "model.add(Flatten())\n",
        "model.add(Dense(512, activation='relu'))\n",
        "model.add(Dropout(0.5))\n",
        "model.add(Dense(10, activation='softmax'))\n",
        "\n",
        "     \n",
        "\n",
        "\n",
        "model.summary()"
      ],
      "execution_count": 7,
      "outputs": [
        {
          "output_type": "stream",
          "name": "stdout",
          "text": [
            "Model: \"sequential\"\n",
            "_________________________________________________________________\n",
            " Layer (type)                Output Shape              Param #   \n",
            "=================================================================\n",
            " conv2d (Conv2D)             (None, 32, 32, 32)        896       \n",
            "                                                                 \n",
            " conv2d_1 (Conv2D)           (None, 30, 30, 32)        9248      \n",
            "                                                                 \n",
            " max_pooling2d (MaxPooling2D  (None, 15, 15, 32)       0         \n",
            " )                                                               \n",
            "                                                                 \n",
            " dropout (Dropout)           (None, 15, 15, 32)        0         \n",
            "                                                                 \n",
            " conv2d_2 (Conv2D)           (None, 15, 15, 64)        18496     \n",
            "                                                                 \n",
            " conv2d_3 (Conv2D)           (None, 13, 13, 64)        36928     \n",
            "                                                                 \n",
            " max_pooling2d_1 (MaxPooling  (None, 6, 6, 64)         0         \n",
            " 2D)                                                             \n",
            "                                                                 \n",
            " dropout_1 (Dropout)         (None, 6, 6, 64)          0         \n",
            "                                                                 \n",
            " conv2d_4 (Conv2D)           (None, 6, 6, 64)          36928     \n",
            "                                                                 \n",
            " conv2d_5 (Conv2D)           (None, 4, 4, 64)          36928     \n",
            "                                                                 \n",
            " max_pooling2d_2 (MaxPooling  (None, 2, 2, 64)         0         \n",
            " 2D)                                                             \n",
            "                                                                 \n",
            " dropout_2 (Dropout)         (None, 2, 2, 64)          0         \n",
            "                                                                 \n",
            " flatten (Flatten)           (None, 256)               0         \n",
            "                                                                 \n",
            " dense (Dense)               (None, 512)               131584    \n",
            "                                                                 \n",
            " dropout_3 (Dropout)         (None, 512)               0         \n",
            "                                                                 \n",
            " dense_1 (Dense)             (None, 10)                5130      \n",
            "                                                                 \n",
            "=================================================================\n",
            "Total params: 276,138\n",
            "Trainable params: 276,138\n",
            "Non-trainable params: 0\n",
            "_________________________________________________________________\n"
          ]
        }
      ]
    },
    {
      "cell_type": "code",
      "metadata": {
        "id": "skMSXinVhSPV",
        "colab": {
          "base_uri": "https://localhost:8080/"
        },
        "outputId": "8fd22740-0d74-46fa-ef05-52fce216c720"
      },
      "source": [
        "model.compile(optimizer='Adam',loss=\"categorical_crossentropy\",metrics=['accuracy']) \n",
        "#model.compile(optimizer=keras.optimizers.Adam(),loss=\"categorical_crossentropy\",metrics=['accuracy']) \n",
        "results= model.fit(x_train,y_train,epochs=50,batch_size=128,shuffle='true',validation_data=(x_test, y_test))\n",
        "\n"
      ],
      "execution_count": 8,
      "outputs": [
        {
          "output_type": "stream",
          "name": "stdout",
          "text": [
            "Epoch 1/50\n",
            "391/391 [==============================] - 18s 14ms/step - loss: 1.7712 - accuracy: 0.3315 - val_loss: 1.3991 - val_accuracy: 0.4880\n",
            "Epoch 2/50\n",
            "391/391 [==============================] - 5s 12ms/step - loss: 1.3444 - accuracy: 0.5136 - val_loss: 1.1967 - val_accuracy: 0.5720\n",
            "Epoch 3/50\n",
            "391/391 [==============================] - 5s 13ms/step - loss: 1.1593 - accuracy: 0.5868 - val_loss: 1.0573 - val_accuracy: 0.6227\n",
            "Epoch 4/50\n",
            "391/391 [==============================] - 5s 12ms/step - loss: 1.0399 - accuracy: 0.6299 - val_loss: 0.9226 - val_accuracy: 0.6711\n",
            "Epoch 5/50\n",
            "391/391 [==============================] - 5s 12ms/step - loss: 0.9488 - accuracy: 0.6649 - val_loss: 0.8466 - val_accuracy: 0.7012\n",
            "Epoch 6/50\n",
            "391/391 [==============================] - 5s 12ms/step - loss: 0.8800 - accuracy: 0.6903 - val_loss: 0.7825 - val_accuracy: 0.7244\n",
            "Epoch 7/50\n",
            "391/391 [==============================] - 5s 13ms/step - loss: 0.8213 - accuracy: 0.7113 - val_loss: 0.8107 - val_accuracy: 0.7205\n",
            "Epoch 8/50\n",
            "391/391 [==============================] - 5s 13ms/step - loss: 0.7793 - accuracy: 0.7281 - val_loss: 0.7489 - val_accuracy: 0.7384\n",
            "Epoch 9/50\n",
            "391/391 [==============================] - 5s 12ms/step - loss: 0.7523 - accuracy: 0.7385 - val_loss: 0.7183 - val_accuracy: 0.7524\n",
            "Epoch 10/50\n",
            "391/391 [==============================] - 5s 12ms/step - loss: 0.7175 - accuracy: 0.7487 - val_loss: 0.6993 - val_accuracy: 0.7585\n",
            "Epoch 11/50\n",
            "391/391 [==============================] - 5s 13ms/step - loss: 0.6880 - accuracy: 0.7596 - val_loss: 0.6673 - val_accuracy: 0.7705\n",
            "Epoch 12/50\n",
            "391/391 [==============================] - 5s 13ms/step - loss: 0.6653 - accuracy: 0.7693 - val_loss: 0.6528 - val_accuracy: 0.7735\n",
            "Epoch 13/50\n",
            "391/391 [==============================] - 5s 13ms/step - loss: 0.6468 - accuracy: 0.7753 - val_loss: 0.6325 - val_accuracy: 0.7817\n",
            "Epoch 14/50\n",
            "391/391 [==============================] - 5s 13ms/step - loss: 0.6317 - accuracy: 0.7795 - val_loss: 0.6473 - val_accuracy: 0.7803\n",
            "Epoch 15/50\n",
            "391/391 [==============================] - 5s 13ms/step - loss: 0.6148 - accuracy: 0.7849 - val_loss: 0.6714 - val_accuracy: 0.7712\n",
            "Epoch 16/50\n",
            "391/391 [==============================] - 5s 12ms/step - loss: 0.5995 - accuracy: 0.7903 - val_loss: 0.6383 - val_accuracy: 0.7844\n",
            "Epoch 17/50\n",
            "391/391 [==============================] - 5s 12ms/step - loss: 0.5910 - accuracy: 0.7942 - val_loss: 0.6395 - val_accuracy: 0.7823\n",
            "Epoch 18/50\n",
            "391/391 [==============================] - 5s 13ms/step - loss: 0.5833 - accuracy: 0.7957 - val_loss: 0.5919 - val_accuracy: 0.7982\n",
            "Epoch 19/50\n",
            "391/391 [==============================] - 5s 13ms/step - loss: 0.5628 - accuracy: 0.8024 - val_loss: 0.6177 - val_accuracy: 0.7870\n",
            "Epoch 20/50\n",
            "391/391 [==============================] - 5s 13ms/step - loss: 0.5550 - accuracy: 0.8068 - val_loss: 0.5902 - val_accuracy: 0.7980\n",
            "Epoch 21/50\n",
            "391/391 [==============================] - 5s 12ms/step - loss: 0.5503 - accuracy: 0.8089 - val_loss: 0.6255 - val_accuracy: 0.7908\n",
            "Epoch 22/50\n",
            "391/391 [==============================] - 5s 12ms/step - loss: 0.5431 - accuracy: 0.8113 - val_loss: 0.6100 - val_accuracy: 0.7931\n",
            "Epoch 23/50\n",
            "391/391 [==============================] - 5s 12ms/step - loss: 0.5378 - accuracy: 0.8122 - val_loss: 0.5893 - val_accuracy: 0.8013\n",
            "Epoch 24/50\n",
            "391/391 [==============================] - 5s 13ms/step - loss: 0.5252 - accuracy: 0.8165 - val_loss: 0.5880 - val_accuracy: 0.8027\n",
            "Epoch 25/50\n",
            "391/391 [==============================] - 5s 13ms/step - loss: 0.5088 - accuracy: 0.8218 - val_loss: 0.5852 - val_accuracy: 0.8017\n",
            "Epoch 26/50\n",
            "391/391 [==============================] - 5s 13ms/step - loss: 0.5074 - accuracy: 0.8237 - val_loss: 0.6038 - val_accuracy: 0.7961\n",
            "Epoch 27/50\n",
            "391/391 [==============================] - 5s 12ms/step - loss: 0.5132 - accuracy: 0.8197 - val_loss: 0.5688 - val_accuracy: 0.8094\n",
            "Epoch 28/50\n",
            "391/391 [==============================] - 5s 12ms/step - loss: 0.5036 - accuracy: 0.8250 - val_loss: 0.5671 - val_accuracy: 0.8086\n",
            "Epoch 29/50\n",
            "391/391 [==============================] - 5s 13ms/step - loss: 0.4880 - accuracy: 0.8289 - val_loss: 0.5658 - val_accuracy: 0.8086\n",
            "Epoch 30/50\n",
            "391/391 [==============================] - 5s 12ms/step - loss: 0.4879 - accuracy: 0.8293 - val_loss: 0.5764 - val_accuracy: 0.8105\n",
            "Epoch 31/50\n",
            "391/391 [==============================] - 5s 13ms/step - loss: 0.4901 - accuracy: 0.8278 - val_loss: 0.5829 - val_accuracy: 0.8076\n",
            "Epoch 32/50\n",
            "391/391 [==============================] - 5s 13ms/step - loss: 0.4780 - accuracy: 0.8336 - val_loss: 0.5799 - val_accuracy: 0.8072\n",
            "Epoch 33/50\n",
            "391/391 [==============================] - 5s 13ms/step - loss: 0.4759 - accuracy: 0.8357 - val_loss: 0.5687 - val_accuracy: 0.8135\n",
            "Epoch 34/50\n",
            "391/391 [==============================] - 5s 12ms/step - loss: 0.4720 - accuracy: 0.8360 - val_loss: 0.5637 - val_accuracy: 0.8135\n",
            "Epoch 35/50\n",
            "391/391 [==============================] - 5s 13ms/step - loss: 0.4735 - accuracy: 0.8346 - val_loss: 0.6010 - val_accuracy: 0.7993\n",
            "Epoch 36/50\n",
            "391/391 [==============================] - 5s 12ms/step - loss: 0.4704 - accuracy: 0.8349 - val_loss: 0.5992 - val_accuracy: 0.7987\n",
            "Epoch 37/50\n",
            "391/391 [==============================] - 5s 13ms/step - loss: 0.4637 - accuracy: 0.8386 - val_loss: 0.5829 - val_accuracy: 0.8079\n",
            "Epoch 38/50\n",
            "391/391 [==============================] - 5s 12ms/step - loss: 0.4554 - accuracy: 0.8417 - val_loss: 0.5765 - val_accuracy: 0.8120\n",
            "Epoch 39/50\n",
            "391/391 [==============================] - 5s 12ms/step - loss: 0.4519 - accuracy: 0.8425 - val_loss: 0.5697 - val_accuracy: 0.8154\n",
            "Epoch 40/50\n",
            "391/391 [==============================] - 5s 13ms/step - loss: 0.4535 - accuracy: 0.8416 - val_loss: 0.5801 - val_accuracy: 0.8083\n",
            "Epoch 41/50\n",
            "391/391 [==============================] - 5s 12ms/step - loss: 0.4493 - accuracy: 0.8443 - val_loss: 0.5512 - val_accuracy: 0.8206\n",
            "Epoch 42/50\n",
            "391/391 [==============================] - 5s 13ms/step - loss: 0.4432 - accuracy: 0.8448 - val_loss: 0.5537 - val_accuracy: 0.8184\n",
            "Epoch 43/50\n",
            "391/391 [==============================] - 5s 12ms/step - loss: 0.4421 - accuracy: 0.8471 - val_loss: 0.5589 - val_accuracy: 0.8149\n",
            "Epoch 44/50\n",
            "391/391 [==============================] - 5s 12ms/step - loss: 0.4448 - accuracy: 0.8456 - val_loss: 0.5998 - val_accuracy: 0.8061\n",
            "Epoch 45/50\n",
            "391/391 [==============================] - 5s 12ms/step - loss: 0.4349 - accuracy: 0.8479 - val_loss: 0.5528 - val_accuracy: 0.8180\n",
            "Epoch 46/50\n",
            "391/391 [==============================] - 5s 12ms/step - loss: 0.4394 - accuracy: 0.8496 - val_loss: 0.5632 - val_accuracy: 0.8203\n",
            "Epoch 47/50\n",
            "391/391 [==============================] - 5s 12ms/step - loss: 0.4356 - accuracy: 0.8480 - val_loss: 0.5486 - val_accuracy: 0.8210\n",
            "Epoch 48/50\n",
            "391/391 [==============================] - 5s 13ms/step - loss: 0.4365 - accuracy: 0.8466 - val_loss: 0.5575 - val_accuracy: 0.8180\n",
            "Epoch 49/50\n",
            "391/391 [==============================] - 5s 12ms/step - loss: 0.4258 - accuracy: 0.8501 - val_loss: 0.5499 - val_accuracy: 0.8201\n",
            "Epoch 50/50\n",
            "391/391 [==============================] - 5s 13ms/step - loss: 0.4247 - accuracy: 0.8495 - val_loss: 0.5552 - val_accuracy: 0.8210\n"
          ]
        }
      ]
    },
    {
      "cell_type": "code",
      "source": [
        "score = model.evaluate(x_test, y_test)"
      ],
      "metadata": {
        "colab": {
          "base_uri": "https://localhost:8080/"
        },
        "id": "UvcP0-KQjns6",
        "outputId": "2f0d7eea-0b60-4deb-e27d-add5ae320f42"
      },
      "execution_count": 9,
      "outputs": [
        {
          "output_type": "stream",
          "name": "stdout",
          "text": [
            "313/313 [==============================] - 1s 3ms/step - loss: 0.5552 - accuracy: 0.8210\n"
          ]
        }
      ]
    },
    {
      "cell_type": "code",
      "source": [
        "y_pred=model.predict(x_test)\n",
        "y_pred.shape"
      ],
      "metadata": {
        "colab": {
          "base_uri": "https://localhost:8080/"
        },
        "id": "Ok3Kg7HUjaAP",
        "outputId": "7575c6f9-3078-450c-f7bb-d3242bb6d12d"
      },
      "execution_count": 10,
      "outputs": [
        {
          "output_type": "execute_result",
          "data": {
            "text/plain": [
              "(10000, 10)"
            ]
          },
          "metadata": {},
          "execution_count": 10
        }
      ]
    },
    {
      "cell_type": "code",
      "source": [
        "import numpy as np\n",
        "from numpy import argmax\n",
        "y_pred1=argmax(y_pred,axis=1)\n",
        "\n",
        "print(y_pred[10])\n",
        "\n",
        "print(y_pred1[10])\n",
        "\n"
      ],
      "metadata": {
        "colab": {
          "base_uri": "https://localhost:8080/"
        },
        "id": "FDDrfzWsk0_I",
        "outputId": "3b4f5ecc-f939-4959-b902-9fcdf4dc057a"
      },
      "execution_count": 11,
      "outputs": [
        {
          "output_type": "stream",
          "name": "stdout",
          "text": [
            "[5.8079654e-01 3.2076816e-04 1.6236685e-01 3.8115222e-02 1.2860717e-01\n",
            " 1.4506729e-02 2.9735840e-03 1.5796149e-02 5.5257957e-02 1.2590521e-03]\n",
            "0\n"
          ]
        }
      ]
    },
    {
      "cell_type": "code",
      "source": [
        "from sklearn.metrics import accuracy_score,  confusion_matrix\n",
        "print(confusion_matrix(y_test1,y_pred1))\n",
        "accuracy_score(y_test1,y_pred1)*100"
      ],
      "metadata": {
        "colab": {
          "base_uri": "https://localhost:8080/"
        },
        "id": "MsGj2NBmlB7n",
        "outputId": "18c00415-e038-4e64-a84f-3cb387f62bde"
      },
      "execution_count": 12,
      "outputs": [
        {
          "output_type": "stream",
          "name": "stdout",
          "text": [
            "[[847  13  22  11  10   0   6  12  52  27]\n",
            " [  6 915   0   2   2   1   5   0  14  55]\n",
            " [ 64   1 667  56  67  45  61  24   9   6]\n",
            " [ 21   4  29 680  46 110  47  23  20  20]\n",
            " [ 13   1  26  42 812  20  44  34   4   4]\n",
            " [  9   5  22 132  26 746  18  30   6   6]\n",
            " [ 10   3  24  47  18  12 872   2  10   2]\n",
            " [  9   1  10  29  42  31   4 863   4   7]\n",
            " [ 41  18   4   5   2   1   7   0 900  22]\n",
            " [ 18  35   3   8   0   0   5   2  21 908]]\n"
          ]
        },
        {
          "output_type": "execute_result",
          "data": {
            "text/plain": [
              "82.1"
            ]
          },
          "metadata": {},
          "execution_count": 12
        }
      ]
    },
    {
      "cell_type": "code",
      "source": [
        "plt.imshow(x_test[502],cmap=\"gray\")\n",
        "\n",
        "print(y_test1[502])\n",
        "print(y_pred[502])\n",
        "print(y_pred1[502])"
      ],
      "metadata": {
        "colab": {
          "base_uri": "https://localhost:8080/",
          "height": 335
        },
        "id": "1UAZBu8ilaYj",
        "outputId": "56fdd471-bc99-410b-9a3e-77f330329c71"
      },
      "execution_count": 13,
      "outputs": [
        {
          "output_type": "stream",
          "name": "stdout",
          "text": [
            "[5]\n",
            "[4.7650889e-07 5.8341902e-07 1.0302679e-03 2.0677014e-01 3.5185192e-05\n",
            " 7.9111677e-01 8.6277294e-05 9.5999608e-04 2.1986310e-07 1.5192856e-07]\n",
            "5\n"
          ]
        },
        {
          "output_type": "display_data",
          "data": {
            "text/plain": [
              "<Figure size 432x288 with 1 Axes>"
            ],
            "image/png": "[encoded data removed]"
          },
          "metadata": {
            "needs_background": "light"
          }
        }
      ]
    },
    {
      "cell_type": "code",
      "source": [
        "plt.plot(results.history['accuracy'], label='accuracy')\n",
        "plt.plot(results.history['val_accuracy'], label = 'val_accuracy')\n",
        "plt.xlabel('Epoch')\n",
        "plt.ylabel('Accuracy')\n",
        "#plt.ylim([0.5, 1])\n",
        "plt.legend(loc='lower right')\n",
        "\n"
      ],
      "metadata": {
        "id": "lrxn2f3Nr06H",
        "colab": {
          "base_uri": "https://localhost:8080/",
          "height": 296
        },
        "outputId": "f316192e-4b00-4508-e433-ab8ecac787ae"
      },
      "execution_count": 14,
      "outputs": [
        {
          "output_type": "execute_result",
          "data": {
            "text/plain": [
              "<matplotlib.legend.Legend at 0x7f16c31bda10>"
            ]
          },
          "metadata": {},
          "execution_count": 14
        },
        {
          "output_type": "display_data",
          "data": {
            "text/plain": [
              "<Figure size 432x288 with 1 Axes>"
            ],
            "image/png": "[encoded data removed]"
          },
          "metadata": {
            "needs_background": "light"
          }
        }
      ]
    },
    {
      "cell_type": "code",
      "metadata": {
        "id": "tK3DWgfVS_Un",
        "colab": {
          "base_uri": "https://localhost:8080/",
          "height": 312
        },
        "outputId": "55e91b6c-92b5-49fb-8fca-7a9d07bd4588"
      },
      "source": [
        "plt.plot(results.history['loss'])\n",
        "plt.title('Training losses')\n",
        "plt.xlabel('epoch')\n",
        "plt.ylabel('Training losses')"
      ],
      "execution_count": 18,
      "outputs": [
        {
          "output_type": "execute_result",
          "data": {
            "text/plain": [
              "Text(0, 0.5, 'Training losses')"
            ]
          },
          "metadata": {},
          "execution_count": 18
        },
        {
          "output_type": "display_data",
          "data": {
            "text/plain": [
              "<Figure size 432x288 with 1 Axes>"
            ],
            "image/png": "[encoded data removed]"
          },
          "metadata": {
            "needs_background": "light"
          }
        }
      ]
    },
    {
      "cell_type": "code",
      "source": [
        "import matplotlib.pyplot as plt\n",
        "plt.plot(results.history['accuracy'])\n",
        "plt.ylabel('Training  accuracy')\n",
        "plt.xlabel('epoch')"
      ],
      "metadata": {
        "id": "SSq-scHBiSGj",
        "colab": {
          "base_uri": "https://localhost:8080/",
          "height": 296
        },
        "outputId": "c4c6aa8f-38d8-4507-b17c-d5562129458c"
      },
      "execution_count": 16,
      "outputs": [
        {
          "output_type": "execute_result",
          "data": {
            "text/plain": [
              "Text(0.5, 0, 'epoch')"
            ]
          },
          "metadata": {},
          "execution_count": 16
        },
        {
          "output_type": "display_data",
          "data": {
            "text/plain": [
              "<Figure size 432x288 with 1 Axes>"
            ],
            "image/png": "[encoded data removed]"
          },
          "metadata": {
            "needs_background": "light"
          }
        }
      ]
    },
    {
      "cell_type": "code",
      "source": [
        "import matplotlib.pyplot as plt\n",
        "plt.plot(results.history['val_accuracy'])\n",
        "plt.ylabel(' Validation accuracy')\n",
        "plt.xlabel('epoch')"
      ],
      "metadata": {
        "id": "1tbGUfyJ-Mhz",
        "colab": {
          "base_uri": "https://localhost:8080/",
          "height": 296
        },
        "outputId": "9b784362-4dd9-4d6b-fee7-e0108cd6786f"
      },
      "execution_count": 17,
      "outputs": [
        {
          "output_type": "execute_result",
          "data": {
            "text/plain": [
              "Text(0.5, 0, 'epoch')"
            ]
          },
          "metadata": {},
          "execution_count": 17
        },
        {
          "output_type": "display_data",
          "data": {
            "text/plain": [
              "<Figure size 432x288 with 1 Axes>"
            ],
            "image/png": "[encoded data removed]"
          },
          "metadata": {
            "needs_background": "light"
          }
        }
      ]
    }
  ]
}